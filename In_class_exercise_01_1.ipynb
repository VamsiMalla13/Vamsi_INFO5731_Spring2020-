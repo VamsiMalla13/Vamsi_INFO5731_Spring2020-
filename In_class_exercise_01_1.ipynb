{
  "cells": [
    {
      "cell_type": "markdown",
      "metadata": {
        "id": "view-in-github",
        "colab_type": "text"
      },
      "source": [
        "<a href=\"https://colab.research.google.com/github/VamsiMalla13/Vamsi_INFO5731_Spring2020-/blob/main/In_class_exercise_01_1.ipynb\" target=\"_parent\"><img src=\"https://colab.research.google.com/assets/colab-badge.svg\" alt=\"Open In Colab\"/></a>"
      ]
    },
    {
      "cell_type": "markdown",
      "metadata": {
        "id": "DymRJbxDBCnf"
      },
      "source": [
        "# **The first In-class-exercise (01/25/2022, 40 points in total)**"
      ]
    },
    {
      "cell_type": "markdown",
      "metadata": {
        "id": "03jb4GZsBkBS"
      },
      "source": [
        "**bold text**(1) Write a Python program to calculate the length of a string. (4 points)"
      ]
    },
    {
      "cell_type": "code",
      "execution_count": 57,
      "metadata": {
        "colab": {
          "base_uri": "https://localhost:8080/"
        },
        "id": "YaGLbSHHB8Ej",
        "outputId": "2c634b8a-dee2-4b94-879d-2c7111666d19"
      },
      "outputs": [
        {
          "output_type": "stream",
          "name": "stdout",
          "text": [
            "Enter a string: hello\n",
            "Length of the given  string is: 5\n"
          ]
        }
      ],
      "source": [
        "# write your answer here\n",
        "\n",
        "str = input(\"Enter a string: \")\n",
        "count = 0\n",
        "for s in str:\n",
        "      count = count+1\n",
        "print(\"Length of the given  string is:\", count)"
      ]
    },
    {
      "cell_type": "markdown",
      "metadata": {
        "id": "jJDe71iLB616"
      },
      "source": [
        "(2) Write a Python program to count the number of characters in a string. (4 points)\n",
        "\n",
        "Sample String : 'google.com‘, \n",
        "\n",
        "Expected Result : {'o': 3, 'g': 2, '.': 1, 'e': 1, 'l': 1, 'm': 1, 'c': 1}"
      ]
    },
    {
      "cell_type": "code",
      "execution_count": 58,
      "metadata": {
        "colab": {
          "base_uri": "https://localhost:8080/"
        },
        "id": "MtKskTzbCLaU",
        "outputId": "e9168079-5be7-4c30-a0db-d9920a7d7f47"
      },
      "outputs": [
        {
          "output_type": "stream",
          "name": "stdout",
          "text": [
            "{'g': 2, 'o': 3, 'l': 1, 'e': 1, '.': 1, 'c': 1, 'm': 1}\n"
          ]
        }
      ],
      "source": [
        "# write your answer here\n",
        "def chr_frq(str1):\n",
        "    dict = {}\n",
        "    for i in str1:\n",
        "        keys = dict.keys()\n",
        "        if i in keys:\n",
        "            dict[i] += 1\n",
        "        else:\n",
        "            dict[i] = 1\n",
        "    return dict\n",
        "print(chr_frq('google.com'))"
      ]
    },
    {
      "cell_type": "markdown",
      "metadata": {
        "id": "55W9AMdXCSpV"
      },
      "source": [
        "(3) Write a Python program to sum all the items in a list. (4 points)"
      ]
    },
    {
      "cell_type": "code",
      "execution_count": 59,
      "metadata": {
        "colab": {
          "base_uri": "https://localhost:8080/"
        },
        "id": "I57NXsauCec2",
        "outputId": "e30e52f9-fd23-438e-80b1-64b71cb25a3a"
      },
      "outputs": [
        {
          "output_type": "stream",
          "name": "stdout",
          "text": [
            "53\n"
          ]
        }
      ],
      "source": [
        "# write your answer here\n",
        "def sum_list(items):\n",
        "    sum_of_numbers = 0\n",
        "    for i in items:\n",
        "        sum_of_numbers += i\n",
        "    return sum_of_numbers\n",
        "print(sum_list([50,70,-67]))\n"
      ]
    },
    {
      "cell_type": "markdown",
      "metadata": {
        "id": "4ulBZ6yhCi9F"
      },
      "source": [
        "(4) Write a Python program to get a string from a given string where all occurrences of its first char have been changed to '\\$', except the first char itself. (4 points)\n",
        "\n",
        "Sample String : 'restart‘, \n",
        "\n",
        "Expected Result : 'resta\\$t'"
      ]
    },
    {
      "cell_type": "code",
      "execution_count": 60,
      "metadata": {
        "colab": {
          "base_uri": "https://localhost:8080/"
        },
        "id": "Fj0XhwbBCw2o",
        "outputId": "ea3d37eb-249c-47af-fc68-720e2c614994"
      },
      "outputs": [
        {
          "output_type": "stream",
          "name": "stdout",
          "text": [
            "resta$t\n"
          ]
        }
      ],
      "source": [
        "# write your answer here\n",
        "def change_char(i):\n",
        "  char = i[0]\n",
        "  i = i.replace(char, '$')\n",
        "  i = char + i[1:]\n",
        "\n",
        "  return i\n",
        "\n",
        "print(change_char('restart'))"
      ]
    },
    {
      "cell_type": "markdown",
      "metadata": {
        "id": "_bIP7s1MCzue"
      },
      "source": [
        "(5) Write a program with python which could accept two parameter a and b to calculate and output the result of S, where \n",
        "\n",
        "$\\ S=3.14*(1+a/b)^3$ (4 points)\n",
        "\n"
      ]
    },
    {
      "cell_type": "code",
      "execution_count": 61,
      "metadata": {
        "colab": {
          "base_uri": "https://localhost:8080/"
        },
        "id": "w79QilHXD3Mg",
        "outputId": "c19bccc7-ff38-4c42-d92b-884ac0433930"
      },
      "outputs": [
        {
          "output_type": "stream",
          "name": "stdout",
          "text": [
            "please enter integer value of a  2\n",
            "please enter integer value of b 3\n",
            "The value of s is  14.537037037037033\n"
          ]
        }
      ],
      "source": [
        "# write your answer here\n",
        "a1 = input(\"please enter integer value of a  \",)\n",
        "b1 = input (\"please enter integer value of b \",)\n",
        "#converting a and b to integers\n",
        "a=int(a1)\n",
        "b=int(b1)\n",
        "S=3.14*((1+a/b)**3)\n",
        "print(\"The value of s is \",S)"
      ]
    },
    {
      "cell_type": "markdown",
      "metadata": {
        "id": "xCa2bK9aD4Q3"
      },
      "source": [
        "(6) Write a Python program to concatenate following dictionaries to create a new one. (4 points)\n",
        "\n",
        "Sample Dictionary : dic1={1:10, 2:20}, dic2={3:30, 4:40}, dic3={5:50,6:60}, \n",
        "\n",
        "Expected Result : {1: 10, 2: 20, 3: 30, 4: 40, 5: 50, 6: 60}\n"
      ]
    },
    {
      "cell_type": "code",
      "execution_count": 62,
      "metadata": {
        "id": "_z4aLqAbEET1",
        "colab": {
          "base_uri": "https://localhost:8080/"
        },
        "outputId": "6a78171f-f201-4f15-e4fb-dfb4fc4adfd5"
      },
      "outputs": [
        {
          "output_type": "stream",
          "name": "stdout",
          "text": [
            "the concatenated list is  {1: 10, 2: 20, 3: 30, 4: 40, 5: 50, 6: 60}\n"
          ]
        }
      ],
      "source": [
        "# write your answer here\n",
        "\n",
        "dic1={1:10, 2:20}\n",
        "dic2={3:30, 4:40}\n",
        "dic3={5:50,6:60}\n",
        "dic4 = {}\n",
        "for i in (dic1, dic2, dic3): dic4.update(i)\n",
        "print(\"the concatenated list is \", dic4)\n"
      ]
    },
    {
      "cell_type": "markdown",
      "metadata": {
        "id": "0v48Vqa7FrQh"
      },
      "source": [
        "(7) Write a Python program to check whether an element exists within a tuple. (4 points)"
      ]
    },
    {
      "cell_type": "code",
      "execution_count": 63,
      "metadata": {
        "id": "7WEmgq-DF2P1",
        "colab": {
          "base_uri": "https://localhost:8080/"
        },
        "outputId": "ba3812f2-0b66-444f-ede1-e44d10214a8d"
      },
      "outputs": [
        {
          "output_type": "stream",
          "name": "stdout",
          "text": [
            "True\n",
            "False\n",
            "when output is true element  exists in tuple\n"
          ]
        }
      ],
      "source": [
        "# write your answer here\n",
        "tuplex = (\"m\", \"a\", \"s\", \"t\", \"e\", \"r\", \"s\", 2, 0, 3)\n",
        "print(\"a\" in tuplex)\n",
        "print(7 in tuplex)\n",
        "print(\"when output is true element  exists in tuple\")"
      ]
    },
    {
      "cell_type": "markdown",
      "metadata": {
        "id": "vD5PYLMuGga_"
      },
      "source": [
        "(8) Write a Python program to find maximum and the minimum value in a set. (4 points)"
      ]
    },
    {
      "cell_type": "code",
      "execution_count": 64,
      "metadata": {
        "id": "t0D5kdJUGjjw",
        "colab": {
          "base_uri": "https://localhost:8080/"
        },
        "outputId": "a1bf3db0-a8fc-4053-c5b5-09277786cac0"
      },
      "outputs": [
        {
          "output_type": "stream",
          "name": "stdout",
          "text": [
            "given set elements:\n",
            "{99, 35, 10, 78, 24, 59}\n",
            "<class 'set'>\n",
            "Maximum value in the set is : 99\n",
            "Minimum value in the set is : 10\n"
          ]
        }
      ],
      "source": [
        "# write your answer here\n",
        "seti = {35, 59, 78, 99, 24, 10}\n",
        "print(\"given set elements:\")\n",
        "print(seti)\n",
        "print(type(seti))\n",
        "print(\"Maximum value in the set is :\",(max(seti)))\n",
        "print(\"Minimum value in the set is :\",(min(seti)))\n",
        "\n"
      ]
    },
    {
      "cell_type": "markdown",
      "metadata": {
        "id": "uHkd-y5VhVWC"
      },
      "source": [
        "(9) Write a Python program to randomly divide the students in this class into six groups for term projects, each group should have at least 4 students but no more than 6 students (including 6). Here is the students list: (4 points)\n",
        "\n",
        "> Indented block\n",
        "\n",
        "\n",
        "\n",
        "studnet_list = ['ja0964','sa1198','sb1357','vb0218','sc1229','kg0569','kg0470','sg1297','bg0320','fh0141','jl1252','sk1386',\n",
        "           'ak0956','sk1390','sk1458','sk1313','ak0934','vm0377','nm0618','sm1640','sm1907','gn0108','pr0353','dr0609','ms1500','aos0040','ds0814', 'av0659','nv0234','hy0232']"
      ]
    },
    {
      "cell_type": "code",
      "execution_count": 68,
      "metadata": {
        "id": "3iGbmcOBhTwy",
        "colab": {
          "base_uri": "https://localhost:8080/"
        },
        "outputId": "369f04be-9d0b-450f-c6ca-d10549fa82a0"
      },
      "outputs": [
        {
          "output_type": "stream",
          "name": "stdout",
          "text": [
            "[['ja0964', 'sa1198', 'sb1357', 'vb0218', 'sc1229'], ['kg0569', 'kg0470', 'sg1297', 'bg0320', 'fh0141'], ['jl1252', 'sk1386', 'ak0956', 'sk1390', 'sk1458'], ['sk1313', 'ak0934', 'vm0377', 'nm0618', 'sm1640'], ['sm1907', 'gn0108', 'pr0353', 'dr0609', 'ms1500'], ['aos0040', 'ds0814', 'av0659', 'nv0234', 'hy0232']]\n"
          ]
        }
      ],
      "source": [
        "# write your answer here\n",
        "student_list = ['ja0964','sa1198','sb1357','vb0218','sc1229','kg0569','kg0470','sg1297','bg0320','fh0141','jl1252','sk1386',\n",
        "           'ak0956','sk1390','sk1458','sk1313','ak0934','vm0377','nm0618','sm1640','sm1907','gn0108','pr0353','dr0609','ms1500','aos0040','ds0814', 'av0659','nv0234','hy0232']\n",
        "list1 = list()\n",
        "size = 5 \n",
        "for x in range(0,len(student_list),size):\n",
        "  list1.append(student_list[x:x+size])\n",
        "print(list1)"
      ]
    },
    {
      "cell_type": "code",
      "source": [
        "import random\n",
        "student_list = ['ja0964','sa1198','sb1357','vb0218','sc1229','kg0569','kg0470','sg1297','bg0320','fh0141','jl1252','sk1386',\n",
        "           'ak0956','sk1390','sk1458','sk1313','ak0934','vm0377','nm0618','sm1640','sm1907','gn0108','pr0353','dr0609','ms1500','aos0040','ds0814', 'av0659','nv0234','hy0232']\n",
        "l2 = []\n",
        "while len(student_list)>0:\n",
        "  r = random.choice(student_list)\n",
        "  l2.append(r)\n",
        "  student_list.remove(r)\n",
        "l3=[4,5,6,4,5,6]\n",
        "while(l3!=[]):\n",
        "  a = random.choice(l3)\n",
        "  print(l2[:a])\n",
        "  l2=l2[a:]\n",
        "  l3.remove(a)"
      ],
      "metadata": {
        "colab": {
          "base_uri": "https://localhost:8080/"
        },
        "id": "HOkNluChzK4C",
        "outputId": "5b7105b4-75ef-4a07-ddc0-89145656f8d7"
      },
      "execution_count": 69,
      "outputs": [
        {
          "output_type": "stream",
          "name": "stdout",
          "text": [
            "['fh0141', 'vb0218', 'sm1907', 'pr0353']\n",
            "['ak0956', 'dr0609', 'sc1229', 'sk1313', 'sg1297']\n",
            "['ja0964', 'ds0814', 'kg0470', 'sk1390', 'aos0040', 'ms1500']\n",
            "['sm1640', 'nm0618', 'hy0232', 'nv0234', 'jl1252', 'sb1357']\n",
            "['bg0320', 'sa1198', 'av0659', 'vm0377']\n",
            "['sk1458', 'kg0569', 'sk1386', 'ak0934', 'gn0108']\n"
          ]
        }
      ]
    },
    {
      "cell_type": "markdown",
      "metadata": {
        "id": "vlnTm4qhcPrq"
      },
      "source": [
        "(10) Write a Python program to find the duplicate elements in a given array of integers. Return -1 If there are no such elements. (4 points)"
      ]
    },
    {
      "cell_type": "code",
      "execution_count": 65,
      "metadata": {
        "id": "QwWpTMMgcPrq",
        "colab": {
          "base_uri": "https://localhost:8080/"
        },
        "outputId": "7e30d862-450e-445a-8426-a0512d65dfad"
      },
      "outputs": [
        {
          "output_type": "stream",
          "name": "stdout",
          "text": [
            "30\n",
            "when there is no dulicate value -1\n",
            "5\n"
          ]
        }
      ],
      "source": [
        "# write your answer here\n",
        "def find_first_duplicate(num):\n",
        "    num_set = set()\n",
        "    no_duplicate = -1\n",
        "\n",
        "    for i in range(len(num)):\n",
        "\n",
        "        if num[i] in num_set:\n",
        "            return num[i]\n",
        "        else:\n",
        "            num_set.add(num[i])\n",
        "\n",
        "    return no_duplicate\n",
        "\n",
        "print(find_first_duplicate([10,20,30,30,10]))\n",
        "print(\"when there is no dulicate value\",find_first_duplicate([1, 2, 3, 4]))\n",
        "print(find_first_duplicate([5,5,10,1]))"
      ]
    },
    {
      "cell_type": "markdown",
      "metadata": {
        "id": "t-XiLZLacPrr"
      },
      "source": [
        "(11) Write a Python program to select all the Sundays of a specified year. (4 extra points)"
      ]
    },
    {
      "cell_type": "code",
      "execution_count": 66,
      "metadata": {
        "id": "31Psaue9cPrr",
        "colab": {
          "base_uri": "https://localhost:8080/"
        },
        "outputId": "692c5740-8727-4457-d451-75b2ba7bdf33"
      },
      "outputs": [
        {
          "output_type": "stream",
          "name": "stdout",
          "text": [
            "the sundays of 2020 are  2020-01-05\n",
            "the sundays of 2020 are  2020-01-12\n",
            "the sundays of 2020 are  2020-01-19\n",
            "the sundays of 2020 are  2020-01-26\n",
            "the sundays of 2020 are  2020-02-02\n",
            "the sundays of 2020 are  2020-02-09\n",
            "the sundays of 2020 are  2020-02-16\n",
            "the sundays of 2020 are  2020-02-23\n",
            "the sundays of 2020 are  2020-03-01\n",
            "the sundays of 2020 are  2020-03-08\n",
            "the sundays of 2020 are  2020-03-15\n",
            "the sundays of 2020 are  2020-03-22\n",
            "the sundays of 2020 are  2020-03-29\n",
            "the sundays of 2020 are  2020-04-05\n",
            "the sundays of 2020 are  2020-04-12\n",
            "the sundays of 2020 are  2020-04-19\n",
            "the sundays of 2020 are  2020-04-26\n",
            "the sundays of 2020 are  2020-05-03\n",
            "the sundays of 2020 are  2020-05-10\n",
            "the sundays of 2020 are  2020-05-17\n",
            "the sundays of 2020 are  2020-05-24\n",
            "the sundays of 2020 are  2020-05-31\n",
            "the sundays of 2020 are  2020-06-07\n",
            "the sundays of 2020 are  2020-06-14\n",
            "the sundays of 2020 are  2020-06-21\n",
            "the sundays of 2020 are  2020-06-28\n",
            "the sundays of 2020 are  2020-07-05\n",
            "the sundays of 2020 are  2020-07-12\n",
            "the sundays of 2020 are  2020-07-19\n",
            "the sundays of 2020 are  2020-07-26\n",
            "the sundays of 2020 are  2020-08-02\n",
            "the sundays of 2020 are  2020-08-09\n",
            "the sundays of 2020 are  2020-08-16\n",
            "the sundays of 2020 are  2020-08-23\n",
            "the sundays of 2020 are  2020-08-30\n",
            "the sundays of 2020 are  2020-09-06\n",
            "the sundays of 2020 are  2020-09-13\n",
            "the sundays of 2020 are  2020-09-20\n",
            "the sundays of 2020 are  2020-09-27\n",
            "the sundays of 2020 are  2020-10-04\n",
            "the sundays of 2020 are  2020-10-11\n",
            "the sundays of 2020 are  2020-10-18\n",
            "the sundays of 2020 are  2020-10-25\n",
            "the sundays of 2020 are  2020-11-01\n",
            "the sundays of 2020 are  2020-11-08\n",
            "the sundays of 2020 are  2020-11-15\n",
            "the sundays of 2020 are  2020-11-22\n",
            "the sundays of 2020 are  2020-11-29\n",
            "the sundays of 2020 are  2020-12-06\n",
            "the sundays of 2020 are  2020-12-13\n",
            "the sundays of 2020 are  2020-12-20\n",
            "the sundays of 2020 are  2020-12-27\n"
          ]
        }
      ],
      "source": [
        "# write your answer here\n",
        "from datetime import date, timedelta\n",
        "\n",
        "def every_sunday(year):\n",
        "       dt = date(year, 1, 1)       \n",
        "       dt += timedelta(days = 6 - dt.weekday())  \n",
        "       while dt.year == year:\n",
        "          yield dt\n",
        "          dt += timedelta(days = 7)\n",
        "          \n",
        "for i in every_sunday(2020):\n",
        "   print(\"the sundays of 2020 are \",i)"
      ]
    }
  ],
  "metadata": {
    "colab": {
      "collapsed_sections": [],
      "name": "In_class_exercise_01-1.ipynb",
      "provenance": [],
      "include_colab_link": true
    },
    "kernelspec": {
      "display_name": "Python 3",
      "language": "python",
      "name": "python3"
    },
    "language_info": {
      "codemirror_mode": {
        "name": "ipython",
        "version": 3
      },
      "file_extension": ".py",
      "mimetype": "text/x-python",
      "name": "python",
      "nbconvert_exporter": "python",
      "pygments_lexer": "ipython3",
      "version": "3.8.5"
    }
  },
  "nbformat": 4,
  "nbformat_minor": 0
}