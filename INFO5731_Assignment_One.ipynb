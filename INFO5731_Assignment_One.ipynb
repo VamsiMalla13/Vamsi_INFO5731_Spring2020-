{
  "cells": [
    {
      "cell_type": "markdown",
      "metadata": {
        "id": "view-in-github",
        "colab_type": "text"
      },
      "source": [
        "<a href=\"https://colab.research.google.com/github/VamsiMalla13/Vamsi_INFO5731_Spring2020-/blob/main/INFO5731_Assignment_One.ipynb\" target=\"_parent\"><img src=\"https://colab.research.google.com/assets/colab-badge.svg\" alt=\"Open In Colab\"/></a>"
      ]
    },
    {
      "cell_type": "markdown",
      "metadata": {
        "id": "Ryk8D1Q4Wsrp"
      },
      "source": [
        "# **INFO5731 Assignment One**"
      ]
    },
    {
      "cell_type": "markdown",
      "metadata": {
        "id": "90_NR8c5XGWc"
      },
      "source": [
        "# Question 1\n",
        "\n",
        "(20 points). Write a Python program to generate 12 random numbers between 1 and 100. Sort the list of numbers in ascending order and print it out. Sort the list of numbers in descending order and print it out. Calculate the average for the group and print it out."
      ]
    },
    {
      "cell_type": "code",
      "execution_count": 113,
      "metadata": {
        "colab": {
          "base_uri": "https://localhost:8080/"
        },
        "id": "5QX6bJjGWXY9",
        "outputId": "170e6533-98fe-44aa-aef6-b7969e3313b3"
      },
      "outputs": [
        {
          "output_type": "stream",
          "name": "stdout",
          "text": [
            "the 10 random numbers are  [38 34 25 29 84 21 92 23 15 51]\n",
            "10\n",
            "output in descending order  [92 84 51 38 34 29 25 23 21 15]\n",
            "output in ascending order  [15 21 23 25 29 34 38 51 84 92]\n",
            "the avergae of output 41.2\n"
          ]
        }
      ],
      "source": [
        "# Your code here\n",
        "from numpy import random;\n",
        "\n",
        "x = random.randint(100,size = (10))\n",
        "\n",
        "print(\"the 10 random numbers are \", x)\n",
        "j = 1\n",
        "print(len(x))\n",
        "\n",
        "for i in range (len(x)):\n",
        "    for j in range (len(x)):\n",
        "        if (x[i]>x[j]):\n",
        "            x[i],x[j]=x[j],x[i]\n",
        "        else:\n",
        "            x[i],x[j]=x[i],x[j]\n",
        "         \n",
        "print(\"output in descending order \", x)\n",
        "\n",
        "for k in range (len(x)):\n",
        "    for l in range (len(x)):\n",
        "        if (x[k]<x[l]):\n",
        "            x[k],x[l]=x[l],x[k]\n",
        "        else:\n",
        "            x[k],x[l]=x[k],x[l]\n",
        "\n",
        "print(\"output in ascending order \" , x)\n",
        "    \n",
        "#average \n",
        "n=0\n",
        "for m in range (len(x)):\n",
        "    n = n+x[m]\n",
        "avg = n/len(x)\n",
        "print(\"the avergae of output\",avg)\n",
        "\n"
      ]
    },
    {
      "cell_type": "markdown",
      "metadata": {
        "id": "1F_PZdH9Sh49"
      },
      "source": [
        "# Question 2\n",
        "(25 points). Write a program that will do the following string formatting tasks:\n",
        "\n",
        "(1) Ask the user to enter two sentences.\n",
        "\n",
        "(2) Make each sentence into a list. Each element in the list should correspond to a word in the sentence. For example, if the sentence is \"Alas! Am I alive? This is my first python program\", the program should print out ['Alas, '!', 'Am', 'I', 'alive, '?', 'This', 'is', 'my', 'first', 'python', 'program'].\n",
        "\n",
        "(3) Compare the two sentences. Print out a list of words that occur in both sentences.\n",
        "\n",
        "(4) Remove any punctuation from the sentence and print it back out. It should remove at least the following characters, but it can remove more: period(“.”), comma (“,”), semicolon (“;”), and colon (“:”)\n",
        "\n",
        "(5) Count the number of vowels in the sentences. Print out each vowel and the number of times it appears in the sentences, such as: a:2, e:1, i:0, etc"
      ]
    },
    {
      "cell_type": "code",
      "source": [
        "# Your code here\n",
        "import re\n",
        "import string\n",
        "\n",
        "#qsn1\n",
        "\n",
        "x = input(\"Enter First sentence \")\n",
        "y = input(\"Enter Second Sentence\")\n",
        "\n",
        "\n",
        "#qsn 2 \n",
        "\n",
        "x1 = re.compile(r'\\w+|[^\\w\\s]').findall(x)\n",
        "y1 = re.compile(r'\\w+|[^\\w\\s]').findall(y)\n",
        "\n",
        "print(\"qsn 2 sentence to words :\",x1)\n",
        "print(\"qsn2 sentence to words :\",y1)\n",
        "\n",
        "#qsn3 \n",
        "\n",
        "print(\"qsn3 common words:\", set(x1).intersection(set(y1)))\n",
        "\n",
        "#qsn4 \n",
        "\n",
        "def rm_punctuation(input):\n",
        "\n",
        "  return input.translate(str.maketrans('','',string.punctuation))\n",
        "\n",
        "\n",
        "print(\"qsn 4 punctuations removed  : \",rm_punctuation(x))\n",
        "\n",
        "#qsn5\n",
        "def compute(input):\n",
        "  vowels = \"a,e,i,o,u\"\n",
        "  \n",
        "  vowels_split = vowels.split(\",\")\n",
        "  values = []\n",
        "  values2 = []\n",
        "  \n",
        "  for i in vowels_split:\n",
        "    j = input.count(i)\n",
        "    if(j>0):\n",
        "      values2.append(i)\n",
        "      values.append(j)\n",
        "  return dict(zip(values2,values))\n",
        "\n",
        "print(\"q5 vowels in 1 : \",compute(x))\n",
        "print(\"q5 vowels in  2 : \",compute(y))"
      ],
      "metadata": {
        "colab": {
          "base_uri": "https://localhost:8080/"
        },
        "id": "9dXKHNNjoXLv",
        "outputId": "ef515f78-9c29-49a2-a21a-b1ab6ed42c0f"
      },
      "execution_count": 117,
      "outputs": [
        {
          "output_type": "stream",
          "name": "stdout",
          "text": [
            "Enter First sentence bvamso! bsb hello\n",
            "Enter Second Sentenceg !2 hello\n",
            "qsn 2 sentence to words : ['bvamso', '!', 'bsb', 'hello']\n",
            "qsn2 sentence to words : ['g', '!', '2', 'hello']\n",
            "qsn3 common words: {'!', 'hello'}\n",
            "qsn 4 punctuations removed  :  bvamso bsb hello\n",
            "q5 vowels in 1 :  {'a': 1, 'e': 1, 'o': 2}\n",
            "q5 vowels in  2 :  {'e': 1, 'o': 1}\n"
          ]
        }
      ]
    },
    {
      "cell_type": "markdown",
      "metadata": {
        "id": "CmFoI4jDS9nx"
      },
      "source": [
        "# Question 3 \n",
        "\n",
        "(15 points). The formula that describes the volume V of a sphere with radius r is the following:\n",
        "\n",
        "$ V=\\frac{4}{3}\\ast\\ \\pi\\ast\\ r^3 $\n",
        "\n",
        "Write a program to calculate the value of V when r is in the range of 1–10. Output the result in the following format:\n",
        "\n",
        "\tr\tV\n",
        "\t1\t…\n",
        "\t2\t…\n",
        "\t3\t…\n"
      ]
    },
    {
      "cell_type": "code",
      "execution_count": 118,
      "metadata": {
        "colab": {
          "base_uri": "https://localhost:8080/"
        },
        "id": "pEyqeioAT95b",
        "outputId": "ac009703-a1e5-4b97-9c83-28c973c0161e"
      },
      "outputs": [
        {
          "output_type": "stream",
          "name": "stdout",
          "text": [
            "r  V\n",
            "1  4.19047619047619\n",
            "2  33.52380952380952\n",
            "3  113.14285714285712\n",
            "4  268.19047619047615\n",
            "5  523.8095238095237\n",
            "6  905.142857142857\n",
            "7  1437.333333333333\n",
            "8  2145.523809523809\n",
            "9  3054.857142857142\n",
            "10  4190.47619047619\n"
          ]
        }
      ],
      "source": [
        "# Your code here\n",
        "print(\"r\"+\"  V\")\n",
        "for r in range(1,11):\n",
        "   v = (4/3)*(22/7)*(r**3)\n",
        "   print(r, \"\" , v)\n",
        "\n",
        "   \n"
      ]
    },
    {
      "cell_type": "code",
      "execution_count": null,
      "metadata": {
        "id": "pMCr3l8tnu0j"
      },
      "outputs": [],
      "source": [
        ""
      ]
    },
    {
      "cell_type": "markdown",
      "metadata": {
        "id": "z3tBE7E-Xn5X"
      },
      "source": [
        "# Question 4\n",
        "\n",
        "(40 points). In the field of Data Science, data is often formatted as a comma-delimited (CSV) file, where each line in a file corresponds to a field's value. Refer to Chapter 9 (p. 106) for more information on comma-delimited files. To answer this question, you will need to download the file [Assignment1_denton_housing.csv](https://raw.githubusercontent.com/unt-iialab/info5731-spring2022/main/assignments/Assignment1_denton_housing.csv) included with this assignment. The file [Assignment1_denton_housing.csv](https://raw.githubusercontent.com/unt-iialab/info5731-spring2022/main/assignments/Assignment1_denton_housing.csv) contains statistics about housing in the city of Denton from 2008 to 2014. Write a program to implement the following questions.\n",
        "\n",
        "(1) (10 pts) Calculate the difference in the number of Occupied Housing Units from year to year and print it. The difference must be calculated for the consecutive years such as 2008-2009, 2009-2010 etc. Finally, print the values in the ascending order.\n",
        "\n",
        "(2) (10 pts) For all the years, calculate the percentage of housing units which are vacant an occupied. Print the results in the following format:\n",
        "\n",
        "Year Vacant Housing Units Occupied Housing Units\n",
        "\n",
        "    2008  30%   70%                          \n",
        "\t2009 ----- -----\n",
        "\t2010 ----- -----\n",
        "    2011 ----- -----\n",
        "\t2012 ----- -----\n",
        "    2013 ----- -----\n",
        "\t2014 ----- -----\n",
        "  \n",
        "  \n",
        "\n",
        "(3) (10 pts) Calculate and print the valued and years in which the highest number of housing units were vacant and occupied. Print the results in the following format:  \n",
        "\n",
        "                              Year\tValue\n",
        "\tVacant Housing Units\t  -----   -----\n",
        "\tOccupied Housing Units\t-----   -----\n",
        "\n",
        "(4) (10 pts) Calculate the harmonic mean of the total housing units and print it out. You can find the information about harmonic mean here: https://ncalculators.com/statistics/harmonic-mean-calculator.htm"
      ]
    },
    {
      "cell_type": "code",
      "execution_count": 164,
      "metadata": {
        "colab": {
          "base_uri": "https://localhost:8080/"
        },
        "id": "lqGYuHBhcsRH",
        "outputId": "5747d1f3-4722-4250-9ee0-ff9c1bb16449"
      },
      "outputs": [
        {
          "output_type": "stream",
          "name": "stdout",
          "text": [
            "[2622, 1565, 1404, -303, 5091, -795]\n",
            "difference in the number of Occupied Housing Units in ascending order  [-795, -303, 1404, 1565, 2622, 5091]\n",
            "   year  Percentagevacant  percentageoccupied\n",
            "0  2014          5.730111           94.269889\n",
            "1  2013          8.801788           91.198212\n",
            "2  2012          6.677600           93.322400\n",
            "3  2011          9.379522           90.620478\n",
            "4  2010          8.142556           91.857444\n",
            "5  2009          9.071116           90.928884\n",
            "6  2008         10.882653           89.117347\n"
          ]
        }
      ],
      "source": [
        "\n",
        "# Your code here\n",
        "import pandas as pd \n",
        "dentonHousing = pd.read_csv(\"/content/sample_data/Assignment1_denton_housing.csv\")\n",
        "values=dentonHousing[\"value\"]\n",
        "k = []\n",
        "vacanthousing=[]\n",
        "Occupiedhousing = []\n",
        "Totalhousing = []\n",
        "percentagevacant =[]\n",
        "percentageoccupied = []\n",
        "period=[]\n",
        "yearupdated = []\n",
        "vacant = dentonHousing[\"title_field\"]\n",
        "# print(dentonHousing)\n",
        "\n",
        "for i in range(len(vacant)):\n",
        "  if(vacant[i] == \"Vacant Housing Units\"):\n",
        "     vacanthousing.append(dentonHousing.value[i])\n",
        "     period.append(dentonHousing.year[i])\n",
        "  if(vacant[i] == \"Occupied Housing Units\"):\n",
        "    Occupiedhousing.append(dentonHousing.value[i])\n",
        "  if(vacant[i] == \"Total Housing Units\"):\n",
        "    Totalhousing.append(dentonHousing.value[i])\n",
        "# print(vacanthousing)\n",
        "# print(Occupiedhousing)\n",
        "\n",
        "#question 1 \n",
        "\n",
        "for i in range(len(Occupiedhousing)-1):\n",
        "\n",
        "        Difference =(Occupiedhousing[i]) - (Occupiedhousing[i+1])\n",
        "        k.append(Difference)\n",
        "print(k)\n",
        "k.sort(reverse=False)\n",
        "print(\"difference in the number of Occupied Housing Units in ascending order \", k)\n",
        "\n",
        "# print(Totalhousing)\n",
        "# print(period)\n",
        "\n",
        "cd = pd.DataFrame({'year':period , 'vacanthousing': vacanthousing,'Occupiedhousing':Occupiedhousing} )\n",
        "# print(cd)\n",
        "\n",
        "# find maximum values of a list of columns\n",
        "maxValues = cd[['vacanthousing', 'Occupiedhousing']].max()\n",
        "\n",
        "\n",
        "\n",
        "# for i in range (len(vacanthousing)):\n",
        "#   if(vacanthousing[i]== maxValues[0]) or (Occupiedhousing[i]== maxValues[1]):\n",
        "\n",
        "#     yearupdated.append(cd.year[i])\n",
        "# print(\"year updated is \" , yearupdated)\n",
        "\n",
        "\n",
        "\n",
        "# de = pd.DataFrame({'year':yearupdated,'value':maxValues} )\n",
        "# print(de)\n",
        "        \n",
        "for i in range (len(vacanthousing)):\n",
        "  y = (vacanthousing[i]/Totalhousing[i])*100\n",
        "  z = (Occupiedhousing[i]/Totalhousing[i])*100\n",
        "  percentagevacant.append(y)\n",
        "  percentageoccupied.append(z)\n",
        "# print(percentagevacant) \n",
        "# print(percentageoccupied)\n",
        "\n",
        "\n",
        "\n",
        "df = pd.DataFrame({'year':period , 'Percentagevacant': percentagevacant,'percentageoccupied':percentageoccupied} )\n",
        "print(df)\n",
        "\n",
        "\n",
        "\n"
      ]
    },
    {
      "cell_type": "code",
      "source": [
        "#question 3\n",
        "\n",
        "dentonHousing_values_occupied = dentonHousing[dentonHousing['title_field']=='Occupied Housing Units']\n",
        "dentonHousing_values_vacient = dentonHousing[dentonHousing['title_field']=='Vacant Housing Units']\n",
        "\n",
        "maxvalueoccupied = dentonHousing_values_occupied[dentonHousing_values_occupied['value']==dentonHousing_values_occupied[\"value\"].max()]\n",
        "maxvaluevacient = dentonHousing_values_vacient[dentonHousing_values_vacient['value']==dentonHousing_values_vacient[\"value\"].max()]\n",
        "\n",
        "concatinate = pd.concat([maxvaluevacient, maxvalueoccupied ])\n",
        "\n",
        "print(concatinate[['title_field','year','value']])\n",
        "\n",
        "print(\"The same values are obserevd using the max function as well to reverfiy \" , maxValues)\n"
      ],
      "metadata": {
        "colab": {
          "base_uri": "https://localhost:8080/"
        },
        "id": "HllW4ft_2sEa",
        "outputId": "e0509f3a-b4ac-497d-ad17-dd512a8f0582"
      },
      "execution_count": 165,
      "outputs": [
        {
          "output_type": "stream",
          "name": "stdout",
          "text": [
            "               title_field  year  value\n",
            "19    Vacant Housing Units  2008   4483\n",
            "2   Occupied Housing Units  2014  46295\n",
            "The same values are obserevd using the max function as well to reverfiy  vacanthousing       4483\n",
            "Occupiedhousing    46295\n",
            "dtype: int64\n"
          ]
        }
      ]
    },
    {
      "cell_type": "code",
      "source": [
        "import statistics\n",
        "zadd = 0 \n",
        "print(\"Harmonic Mean is % s \" % (statistics.harmonic_mean(Totalhousing)))\n",
        "\n",
        "n = len(Totalhousing)\n",
        "\n",
        "for i in range(len(Totalhousing)):\n",
        "  z = 1/Totalhousing[i]\n",
        "  zadd =  z + zadd\n",
        "hmean = (n / (zadd))\n",
        "print(\"with out using inbuilt function \",hmean )"
      ],
      "metadata": {
        "colab": {
          "base_uri": "https://localhost:8080/"
        },
        "id": "GqotQY78ktL8",
        "outputId": "788aa5bb-14cf-4d3a-f09d-0894ec8040e0"
      },
      "execution_count": 166,
      "outputs": [
        {
          "output_type": "stream",
          "name": "stdout",
          "text": [
            "Harmonic Mean is 44398.28543969185 \n",
            "with out using inbuilt function  44398.28543969185\n"
          ]
        }
      ]
    },
    {
      "cell_type": "code",
      "source": [
        ""
      ],
      "metadata": {
        "id": "YMlYkxDZMLXt"
      },
      "execution_count": null,
      "outputs": []
    }
  ],
  "metadata": {
    "colab": {
      "collapsed_sections": [],
      "name": "INFO5731_Assignment_One.ipynb",
      "provenance": [],
      "include_colab_link": true
    },
    "kernelspec": {
      "display_name": "Python 3 (ipykernel)",
      "language": "python",
      "name": "python3"
    },
    "language_info": {
      "codemirror_mode": {
        "name": "ipython",
        "version": 3
      },
      "file_extension": ".py",
      "mimetype": "text/x-python",
      "name": "python",
      "nbconvert_exporter": "python",
      "pygments_lexer": "ipython3",
      "version": "3.9.7"
    }
  },
  "nbformat": 4,
  "nbformat_minor": 0
}